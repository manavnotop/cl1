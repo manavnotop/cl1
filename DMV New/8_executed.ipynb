{
  "cells": [
    {
      "cell_type": "markdown",
      "metadata": {
        "id": "uyXruILNjsdL"
      },
      "source": [
        "Analyzing Weather Data from OpenWeatherMap API"
      ]
    },
    {
      "cell_type": "code",
      "execution_count": 1,
      "metadata": {
        "id": "v9I8GVrYjsdN"
      },
      "outputs": [],
      "source": [
        "import requests\n",
        "import pandas as pd\n",
        "import datetime\n",
        "# Set your OpenWeatherMap API key\n",
        "api_key = 'fb365aa6104829b44455572365ff3b4e'"
      ]
    },
    {
      "cell_type": "code",
      "execution_count": 2,
      "metadata": {
        "id": "kLAy5TzCjsdO",
        "outputId": "72fba36a-ccb2-4ace-c78b-f947cecce56a",
        "colab": {
          "base_uri": "https://localhost:8080/"
        }
      },
      "outputs": [
        {
          "output_type": "execute_result",
          "data": {
            "text/plain": [
              "{'dt': 1690189200,\n",
              " 'main': {'temp': 298.21,\n",
              "  'feels_like': 298.81,\n",
              "  'temp_min': 298.1,\n",
              "  'temp_max': 298.21,\n",
              "  'pressure': 1006,\n",
              "  'sea_level': 1006,\n",
              "  'grnd_level': 942,\n",
              "  'humidity': 78,\n",
              "  'temp_kf': 0.11},\n",
              " 'weather': [{'id': 804,\n",
              "   'main': 'Clouds',\n",
              "   'description': 'overcast clouds',\n",
              "   'icon': '04d'}],\n",
              " 'clouds': {'all': 100},\n",
              " 'wind': {'speed': 6.85, 'deg': 258, 'gust': 12.9},\n",
              " 'visibility': 10000,\n",
              " 'pop': 0.59,\n",
              " 'sys': {'pod': 'd'},\n",
              " 'dt_txt': '2023-07-24 09:00:00'}"
            ]
          },
          "metadata": {},
          "execution_count": 2
        }
      ],
      "source": [
        "lat = 18.184135\n",
        "lon = 74.610764\n",
        "#https://openweathermap.org/api/one-call-3#how How to use api call\n",
        "# Construct the API URL\n",
        "api_url = f\"http://api.openweathermap.org/data/2.5/forecast?lat={lat}&lon={lon}&appid={api_key}\"\n",
        "# Send a GET request to the API\n",
        "response = requests.get(api_url)\n",
        "weather_data = response.json() #pass response to weather_data object(dictionary)\n",
        "weather_data.keys()\n",
        "dict_keys=(['cod', 'message', 'cnt', 'list', 'city'])\n",
        "weather_data['list'][0]\n",
        "{'dt': 1690189200,\n",
        " 'main': {'temp': 298.21,\n",
        " 'feels_like': 298.81,\n",
        " 'temp_min': 298.1,\n",
        " 'temp_max': 298.21,\n",
        " 'pressure': 1006,\n",
        " 'sea_level': 1006,\n",
        " 'grnd_level': 942,\n",
        " 'humidity': 78,\n",
        " 'temp_kf': 0.11},\n",
        " 'weather': [{'id': 804,\n",
        " 'main': 'Clouds',\n",
        " 'description': 'overcast clouds',\n",
        " 'icon': '04d'}],\n",
        " 'clouds': {'all': 100},\n",
        " 'wind': {'speed': 6.85, 'deg': 258, 'gust': 12.9},\n",
        " 'visibility': 10000,\n",
        " 'pop': 0.59,\n",
        " 'sys': {'pod': 'd'},\n",
        " 'dt_txt': '2023-07-24 09:00:00'}\n"
      ]
    },
    {
      "cell_type": "code",
      "execution_count": 3,
      "metadata": {
        "id": "B4mCSGjRjsdQ",
        "outputId": "d760caef-dbb2-434c-beb8-ae80af8360a0",
        "colab": {
          "base_uri": "https://localhost:8080/"
        }
      },
      "outputs": [
        {
          "output_type": "execute_result",
          "data": {
            "text/plain": [
              "40"
            ]
          },
          "metadata": {},
          "execution_count": 3
        }
      ],
      "source": [
        "len(weather_data['list'])"
      ]
    },
    {
      "cell_type": "code",
      "execution_count": 4,
      "metadata": {
        "id": "gQLdyca-jsdR",
        "outputId": "f5a916bc-7730-404e-89cc-5a6e926f0b23",
        "colab": {
          "base_uri": "https://localhost:8080/",
          "height": 35
        }
      },
      "outputs": [
        {
          "output_type": "execute_result",
          "data": {
            "text/plain": [
              "'light rain'"
            ],
            "application/vnd.google.colaboratory.intrinsic+json": {
              "type": "string"
            }
          },
          "metadata": {},
          "execution_count": 4
        }
      ],
      "source": [
        "weather_data['list'][0]['weather'][0]['description']"
      ]
    },
    {
      "cell_type": "code",
      "execution_count": 5,
      "metadata": {
        "id": "Hh1zPfWojsdR",
        "outputId": "38240708-8c18-4239-9abd-5874322cca1d",
        "colab": {
          "base_uri": "https://localhost:8080/"
        }
      },
      "outputs": [
        {
          "output_type": "execute_result",
          "data": {
            "text/plain": [
              "306.33"
            ]
          },
          "metadata": {},
          "execution_count": 5
        }
      ],
      "source": [
        "temperatures = [item['main']['temp'] for item in weather_data['list']]\n",
        "timestamps = [pd.to_datetime(item['dt'], unit='s') for item in weather_data['list']]\n",
        "temperature = [item['main']['temp'] for item in weather_data['list']]\n",
        "humidity = [item['main']['humidity'] for item in weather_data['list']]\n",
        "wind_speed = [item['wind']['speed'] for item in weather_data['list']]\n",
        "weather_description = [item['weather'][0]['description'] for item in weather_data['list']]\n",
        "# Create a pandas DataFrame with the extracted weather data\n",
        "weather_df = pd.DataFrame({\n",
        "'Timestamp': timestamps,\n",
        "'Temperature': temperatures,\n",
        "'humidity': humidity,\n",
        "'wind_speed': wind_speed,\n",
        "'weather_description': weather_description,\n",
        "})\n",
        "# Set the Timestamp column as the DataFrame's index\n",
        "weather_df.set_index('Timestamp', inplace=True)\n",
        "max_temp = weather_df['Temperature'].max()\n",
        "max_temp"
      ]
    },
    {
      "cell_type": "code",
      "execution_count": 6,
      "metadata": {
        "id": "JFeLl7vyjsdS",
        "outputId": "31a10769-7046-4481-d97a-07f11061502e",
        "colab": {
          "base_uri": "https://localhost:8080/"
        }
      },
      "outputs": [
        {
          "output_type": "execute_result",
          "data": {
            "text/plain": [
              "295.02"
            ]
          },
          "metadata": {},
          "execution_count": 6
        }
      ],
      "source": [
        "min_temp = weather_df['Temperature'].min()\n",
        "min_temp"
      ]
    },
    {
      "cell_type": "code",
      "execution_count": 7,
      "metadata": {
        "id": "CyXlwKMEjsdS"
      },
      "outputs": [],
      "source": [
        "# Handling missing values\n",
        "weather_df.fillna(0, inplace=True) # Replace missing values with 0 or appropriate value\n",
        "# Handling inconsistent format (if applicable)\n",
        "weather_df['Temperature'] = weather_df['Temperature'].apply(lambda x: x - 273.15 if isinstance(x, float)else x)"
      ]
    },
    {
      "cell_type": "code",
      "execution_count": 8,
      "metadata": {
        "id": "DtKUXRrBjsdS",
        "outputId": "9ba2ba0e-09b8-4643-fbda-93708c7412fa",
        "colab": {
          "base_uri": "https://localhost:8080/"
        }
      },
      "outputs": [
        {
          "output_type": "stream",
          "name": "stdout",
          "text": [
            "                     Temperature  humidity  wind_speed   weather_description\n",
            "Timestamp                                                                   \n",
            "2024-09-19 21:00:00        25.11        68        4.10            light rain\n",
            "2024-09-20 00:00:00        24.08        72        3.43         broken clouds\n",
            "2024-09-20 03:00:00        25.87        62        3.68       overcast clouds\n",
            "2024-09-20 06:00:00        30.56        45        2.72       overcast clouds\n",
            "2024-09-20 09:00:00        33.18        34        3.18       overcast clouds\n",
            "2024-09-20 12:00:00        29.49        50        7.37       overcast clouds\n",
            "2024-09-20 15:00:00        26.96        63        5.35         broken clouds\n",
            "2024-09-20 18:00:00        25.77        67        5.37            light rain\n",
            "2024-09-20 21:00:00        24.60        74        4.24            light rain\n",
            "2024-09-21 00:00:00        23.54        79        3.96            light rain\n",
            "2024-09-21 03:00:00        22.64        85        5.55            light rain\n",
            "2024-09-21 06:00:00        23.25        77        4.28            light rain\n",
            "2024-09-21 09:00:00        25.48        64        3.20       overcast clouds\n",
            "2024-09-21 12:00:00        25.24        66        3.66       overcast clouds\n",
            "2024-09-21 15:00:00        23.43        84        4.41            light rain\n",
            "2024-09-21 18:00:00        21.87        94        5.08  heavy intensity rain\n",
            "2024-09-21 21:00:00        22.13        91        4.06            light rain\n",
            "2024-09-22 00:00:00        22.47        89        3.15       overcast clouds\n",
            "2024-09-22 03:00:00        24.79        77        4.97      scattered clouds\n",
            "2024-09-22 06:00:00        28.27        63        4.66            light rain\n",
            "2024-09-22 09:00:00        30.19        54        4.70            light rain\n",
            "2024-09-22 12:00:00        27.02        70        6.81            light rain\n",
            "2024-09-22 15:00:00        24.90        80        6.39         moderate rain\n",
            "2024-09-22 18:00:00        24.15        85        5.40            light rain\n",
            "2024-09-22 21:00:00        23.61        86        4.54         broken clouds\n",
            "2024-09-23 00:00:00        23.02        88        3.97         broken clouds\n",
            "2024-09-23 03:00:00        24.62        79        5.51         broken clouds\n",
            "2024-09-23 06:00:00        27.83        64        5.07         broken clouds\n",
            "2024-09-23 09:00:00        30.63        53        4.93       overcast clouds\n",
            "2024-09-23 12:00:00        28.45        63        6.10            light rain\n",
            "2024-09-23 15:00:00        25.44        77        7.03         moderate rain\n",
            "2024-09-23 18:00:00        23.99        86        5.99            light rain\n",
            "2024-09-23 21:00:00        23.36        88        5.53            light rain\n",
            "2024-09-24 00:00:00        23.18        86        4.89            light rain\n",
            "2024-09-24 03:00:00        24.13        81        5.22       overcast clouds\n",
            "2024-09-24 06:00:00        26.38        69        4.38            light rain\n",
            "2024-09-24 09:00:00        27.66        64        2.34         moderate rain\n",
            "2024-09-24 12:00:00        25.32        77        5.43         moderate rain\n",
            "2024-09-24 15:00:00        22.48        91        4.91  heavy intensity rain\n",
            "2024-09-24 18:00:00        22.55        89        4.93            light rain\n"
          ]
        }
      ],
      "source": [
        "print(weather_df)"
      ]
    }
  ],
  "metadata": {
    "kernelspec": {
      "display_name": "base",
      "language": "python",
      "name": "python3"
    },
    "language_info": {
      "codemirror_mode": {
        "name": "ipython",
        "version": 3
      },
      "file_extension": ".py",
      "mimetype": "text/x-python",
      "name": "python",
      "nbconvert_exporter": "python",
      "pygments_lexer": "ipython3",
      "version": "3.9.13"
    },
    "orig_nbformat": 4,
    "colab": {
      "provenance": []
    }
  },
  "nbformat": 4,
  "nbformat_minor": 0
}